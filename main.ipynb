{
 "cells": [
  {
   "cell_type": "markdown",
   "id": "29b6c382",
   "metadata": {
    "vscode": {
     "languageId": "plaintext"
    }
   },
   "source": [
    "#### Exercício 1\n",
    "\n",
    "Objetivo\n",
    "\n",
    "Implementar um programa que analise o tipo e o valor de uma transação bancária e, com base nessas informações, exiba mensagens diferentes conforme regras definidas pelo setor de prevenção a fraudes.\n",
    "\n",
    "Enunciado\n",
    "\n",
    "Defina uma variável ANO_2_DIGITOS igual aos dois últimos dígitos do seu ano de nascimento. Em seguida:\n",
    "\n",
    "Se VALOR_TRANSACAO for maior que 1000 * ANO_2_DIGITOS e TIPO_TRANSACAO for \"transferência\", exiba \"Alerta: verificar origem da transferência\".\n",
    "Se TIPO_TRANSACAO for \"saque\", exiba \"Alerta: confirmar com o cliente\".\n",
    "Caso contrário, exiba \"Transação normal\".\n",
    "\n",
    "Observações\n",
    "\n",
    "Você pode definir valores fixos para VALOR_TRANSACAO e TIPO_TRANSACAO diretamente no código.\n",
    "O cálculo de 1000 * ANO_2_DIGITOS deve ser armazenado em uma variável auxiliar antes de ser usado na comparação."
   ]
  },
  {
   "cell_type": "code",
   "execution_count": 1,
   "id": "7e40303e",
   "metadata": {},
   "outputs": [
    {
     "name": "stdout",
     "output_type": "stream",
     "text": [
      "Alerta: verificar origem da transferência\n"
     ]
    }
   ],
   "source": [
    "ano_06 = 6\n",
    "valor_transacao = 700000\n",
    "tipo_transacao = \"transferência\"\n",
    "calculo_banco = 1000 * ano_06\n",
    "\n",
    "if tipo_transacao == \"transferência\" and valor_transacao > calculo_banco:\n",
    "    print(\"Alerta: verificar origem da transferência\")\n",
    "elif tipo_transacao == \"saque\":\n",
    "    print(\"Alerta: confirmar com o cliente\")\n",
    "else:\n",
    "    print(\"Transação normal\")"
   ]
  },
  {
   "cell_type": "markdown",
   "id": "31a0f6fc",
   "metadata": {},
   "source": [
    "#### Exercício 2\n",
    "\n",
    "Objetivo\n",
    "\n",
    "Implementar um programa que utilize operadores lógicos para verificar se um funcionário atende aos critérios mínimos para receber uma promoção, exibindo a mensagem apropriada.\n",
    "\n",
    "Enunciado\n",
    "\n",
    "Defina valores fixos para:\n",
    "\n",
    "tempo_empresa_anos (por exemplo, 3)\n",
    "nota_avaliacao (por exemplo, 8.5)\n",
    "carga_horaria (por exemplo, 40)\n",
    "Em seguida:\n",
    "\n",
    "Se o tempo de empresa for maior que 2 anos e a nota da avaliação for maior ou igual a 8.0, imprima \"Elegível para promoção\".\n",
    "Caso contrário, imprima \"Aguardando próxima avaliação\"."
   ]
  },
  {
   "cell_type": "code",
   "execution_count": 2,
   "id": "a5433175",
   "metadata": {},
   "outputs": [
    {
     "name": "stdout",
     "output_type": "stream",
     "text": [
      "Elegível para promoção\n"
     ]
    }
   ],
   "source": [
    "tempo_empresa_anos = 3\n",
    "nota_avaliacao = 8.5\n",
    "carga_horaria = 40\n",
    "\n",
    "if tempo_empresa_anos > 2 and nota_avaliacao >=  8.0:\n",
    "    print(\"Elegível para promoção\")\n",
    "else:\n",
    "    print(\"Aguardando próxima avaliação\")"
   ]
  },
  {
   "cell_type": "markdown",
   "id": "30fd5714",
   "metadata": {},
   "source": [
    "#### Exercício 3\n",
    "\n",
    "Objetivo\n",
    "\n",
    "Implementar um programa que avalie mais de uma condição ao mesmo tempo e classifique o risco de atraso da entrega, imprimindo a mensagem correspondente.\n",
    "\n",
    "Enunciado\n",
    "\n",
    "Defina valores fixos para:\n",
    "\n",
    "distancia_km (por exemplo, 350)\n",
    "clima (por exemplo, \"chuva\")\n",
    "zona_entrega (por exemplo, \"rural\")\n",
    "Em seguida:\n",
    "\n",
    "Se a distância for maior que 300 e o clima for \"chuva\" ou a zona_entrega for \"rural\", imprima \"Risco alto de atraso\".\n",
    "Caso contrário, imprima \"Entrega dentro do previsto\"."
   ]
  },
  {
   "cell_type": "code",
   "execution_count": 3,
   "id": "4cc3c186",
   "metadata": {},
   "outputs": [
    {
     "name": "stdout",
     "output_type": "stream",
     "text": [
      "Risco alto previsto\n"
     ]
    }
   ],
   "source": [
    "distancia_km = 350\n",
    "clima = \"chuva\"\n",
    "zona_entrega = \"rural\"\n",
    "\n",
    "if distancia_km > 300 and (clima == \"chuva\" or zona_entrega == \"rural\"):\n",
    "    print(\"Risco alto previsto\")\n",
    "else:\n",
    "    print(\"Entrega dentro do previsto\")\n"
   ]
  },
  {
   "cell_type": "markdown",
   "id": "9717baee",
   "metadata": {},
   "source": [
    "#### Exercício 4\n",
    "\n",
    "Objetivo\n",
    "Desenvolver um programa com estruturas de decisão que implementam diferentes caminhos de execução para cada tipo de falha de sensor.\n",
    "\n",
    "Enunciado\n",
    "\n",
    "Se o código for \"F1\" e a temperatura estiver abaixo de 40 graus, imprima \"Reiniciar máquina\". Se o código for \"F2\" e a temperatura estiver acima de 60 graus, imprima \"Verificar conexão elétrica e sistema de refrigeração\". Se o código for \"F3\" e a temperatura estiver entre 45 e 55 graus, imprima \"Ajustar temperatura da esteira\". Para o código \"F4\", independentemente da temperatura, imprima \"Realizar diagnóstico dos sensores ópticos\". Caso exista uma falha registrada, mas nenhuma das condições de temperatura previstas for atendida, imprima \"Falha não reconhecida pelo sistema de alarme. Acionar engenheiro responsável\"."
   ]
  },
  {
   "cell_type": "code",
   "execution_count": 4,
   "id": "7677707b",
   "metadata": {},
   "outputs": [
    {
     "name": "stdout",
     "output_type": "stream",
     "text": [
      "Falha não reconhecida pelo sistema de alarme. Acionar engenheiro responsável\n"
     ]
    }
   ],
   "source": [
    "codigo = \"F1\"\n",
    "tempetura = 40\n",
    "\n",
    "if codigo == \"F1\" and tempetura < 40:\n",
    "    print(\"Reiniciar máquina\")\n",
    "elif codigo == \"F2\" and tempetura > 60:\n",
    "    print(\"Verificar conexão elétrico e sistema de refrigeração\")\n",
    "elif codigo == \"F3\" and 45 < tempetura < 55:\n",
    "    print(\"Ajustar temperatura da esteira\") \n",
    "elif codigo == \"F4\":\n",
    "    print(\"Realizar diagnósticos dos sensores ópticos\")\n",
    "else:\n",
    "    print(\"Falha não reconhecida pelo sistema de alarme. Acionar engenheiro responsável\")"
   ]
  },
  {
   "cell_type": "markdown",
   "id": "c86b0e30",
   "metadata": {},
   "source": [
    "#### Exercício 5\n",
    "\n",
    "Objetivo\n",
    "Criar um loop que percorra uma lista de avaliações e imprima todas as notas acima de 7, destacando clientes satisfeitos.\n",
    "\n",
    "Enunciado\n",
    "Considere:\n",
    "\n",
    "notas_avaliacao = [5, 8, 10, 6, 9, 4]\n",
    "\n",
    "Percorra a lista com um loop for e imprima somente as notas maiores que 7."
   ]
  },
  {
   "cell_type": "code",
   "execution_count": 5,
   "id": "d3ae9850",
   "metadata": {},
   "outputs": [
    {
     "name": "stdout",
     "output_type": "stream",
     "text": [
      "8\n",
      "10\n",
      "9\n"
     ]
    }
   ],
   "source": [
    "notas_avaliacao = [5, 8, 10, 6, 9, 4]\n",
    "\n",
    "for nota in notas_avaliacao:\n",
    "    if nota > 7:\n",
    "        print(nota)"
   ]
  },
  {
   "cell_type": "markdown",
   "id": "02435b07",
   "metadata": {},
   "source": [
    "#### Exercício 6\n",
    "\n",
    "Enunciado\n",
    "Crie uma lista com valores de 0 até 50, de 5 em 5 e mostre na tela o resultado."
   ]
  },
  {
   "cell_type": "code",
   "execution_count": 6,
   "id": "757f6721",
   "metadata": {},
   "outputs": [
    {
     "name": "stdout",
     "output_type": "stream",
     "text": [
      "[0, 5, 10, 15, 20, 25, 30, 35, 40, 45, 50]\n"
     ]
    }
   ],
   "source": [
    "valores = []\n",
    "\n",
    "for i in range(0, 51, 5):\n",
    "    valores.append(i)\n",
    "\n",
    "print(valores)"
   ]
  },
  {
   "cell_type": "markdown",
   "id": "1e677608",
   "metadata": {},
   "source": [
    "#### Exercício 7\n",
    "\n",
    "Objetivo\n",
    "\n",
    "Criar um programa que percorra uma sequência de tentativas de conexão, imprimindo mensagens a cada tentativa e interrompendo o processo ao atingir o limite definido, aplicando a lógica de loops condicionais com contagem.\n",
    "\n",
    "Enunciado\n",
    "\n",
    "Defina uma lista chamada tentativas_conexao com valores [False, False, False, True, True], representando o resultado de cada tentativa.\n",
    "Crie uma variável tentativas iniciando em 0 e defina limite_tentativas = 3.\n",
    "Use um loop while para percorrer a lista de tentativas:\n",
    "Para cada tentativa, imprima \"Tentando conectar...\"\n",
    "Incremente tentativas em 1\n",
    "Se tentativas atingir o limite_tentativas e não houver sucesso (True), imprima \"Conexão interrompida após limite de tentativas\" e encerre o loop."
   ]
  },
  {
   "cell_type": "code",
   "execution_count": 7,
   "id": "0cfa6fa9",
   "metadata": {},
   "outputs": [
    {
     "name": "stdout",
     "output_type": "stream",
     "text": [
      "Tentando conectar...\n",
      "Tentando conectar...\n",
      "Tentando conectar...\n",
      "Tentando conectar...\n"
     ]
    }
   ],
   "source": [
    "tentativas_conexao = [False, False, False, True, False]\n",
    "tentativas = 0\n",
    "\n",
    "while tentativas < len(tentativas_conexao):\n",
    "    \n",
    "    print(\"Tentando conectar...\")\n",
    "\n",
    "    resultado = tentativas_conexao[tentativas]\n",
    "    tentativas = tentativas + 1\n",
    "\n",
    "    if resultado:\n",
    "        break\n",
    "    \n",
    "if tentativas == len(tentativas_conexao):\n",
    "    print(\"Conexão interrompida após limite de tentativas\")    \n"
   ]
  },
  {
   "cell_type": "markdown",
   "id": "1a92c175",
   "metadata": {},
   "source": [
    "#### Exercício 8\n",
    "\n",
    "Objetivo\n",
    "\n",
    "Criar e manipular uma lista de pedidos aplicando regras de negócio com condicionais, garantindo que o aluno teste diferentes cenários e apresente a fila final em cada caso, consolidando operações de inserção e substituição.\n",
    "\n",
    "Enunciado\n",
    "\n",
    "Defina, no topo da célula, as variáveis iniciais (valores fixos, sem input()):\n",
    "pedidos = [\"P123\", \"P456\", \"P789\"]\n",
    "pedido_a_substituir = \"P456\"\n",
    "prioridade_urgente = True\n",
    "pedido_urgente = \"P999\"\n",
    "Implemente a seguinte lógica de decisão:\n",
    "Se prioridade_urgente for True, insira pedido_urgente no início da lista pedidos (não remova itens).\n",
    "Senão, substitua o elemento igual a pedido_a_substituir por pedido_urgente (se existir na lista).\n",
    "Imprima a lista final após a aplicação da regra.\n",
    "Teste ao menos 3 cenários distintos no mesmo notebook (pode ser em células separadas, redefinindo as variáveis a cada cenário):\n",
    "Cenário A (urgente): prioridade_urgente = True.\n",
    "Cenário B (não urgente + substituição existe): prioridade_urgente = False e pedido_a_substituir está presente em pedidos.\n",
    "Cenário C (não urgente + substituição não existe): prioridade_urgente = False e pedido_a_substituir não está na lista; mantenha a lista inalterada e imprima uma mensagem explicativa antes da fila final.\n",
    "Observações\n",
    "\n",
    "Não use input().\n",
    "Pode usar métodos de lista como insert, index, atribuição por índice e checagem de existência com in.\n",
    "Ao final de cada cenário, imprima algo como: Fila final (Cenário X): [...]."
   ]
  },
  {
   "cell_type": "code",
   "execution_count": null,
   "id": "dac6b81c",
   "metadata": {},
   "outputs": [
    {
     "name": "stdout",
     "output_type": "stream",
     "text": [
      "Final final (Cenário 1) + ['urgente', 'P123', 'P456', 'P789'], P456\n",
      "Final final (Cenário 2) + ['P123', 'P456', 'P789'], P999\n",
      "Final final (Cenário 3) + ['P123', 'P789'], P456\n"
     ]
    }
   ],
   "source": [
    "# Cenário A\n",
    "pedidos = [\"P123\", \"P456\", \"P789\"]\n",
    "pedido_a_substituir = \"P456\"\n",
    "prioridade_urgente = True\n",
    "pedido_urgente = \"P999\"\n",
    "\n",
    "if prioridade_urgente:\n",
    "    pedidos.insert(0,\"urgente\")\n",
    "else:\n",
    "    if pedido_a_substituir in pedidos:\n",
    "        pedido_a_substituir = pedido_urgente\n",
    "\n",
    "print(f\"Final final (Cenário 1) {pedidos}, {pedido_a_substituir}\")\n",
    "\n",
    "# Cenário B\n",
    "pedidos = [\"P123\", \"P456\", \"P789\"]\n",
    "pedido_a_substituir = \"P456\"\n",
    "prioridade_urgente = False\n",
    "pedido_urgente = \"P999\"\n",
    "\n",
    "if prioridade_urgente:\n",
    "    pedidos.insert(0,\"urgente\")\n",
    "else:\n",
    "    if pedido_a_substituir in pedidos:\n",
    "        pedido_a_substituir = pedido_urgente\n",
    "\n",
    "print(f\"Final final (Cenário 2) {pedidos}, {pedido_a_substituir}\")\n",
    "\n",
    "# Cenário C\n",
    "pedidos = [\"P123\", \"P789\"]\n",
    "pedido_a_substituir = \"P456\"\n",
    "prioridade_urgente = False\n",
    "pedido_urgente = \"P999\"\n",
    "\n",
    "if prioridade_urgente:\n",
    "    pedidos.insert(0,\"urgente\")\n",
    "else:\n",
    "    if pedido_a_substituir in pedidos:\n",
    "        pedido_a_substituir = pedido_urgente\n",
    "\n",
    "print(f\"Final final (Cenário 3) {pedidos}, {pedido_a_substituir}\")"
   ]
  },
  {
   "cell_type": "markdown",
   "id": "feb8a0dc",
   "metadata": {},
   "source": [
    "#### Exercício 9\n",
    "\n",
    "Objetivo\n",
    "\n",
    "Concatenar duas listas de produtos sem alterar os dados originais e imprimir o resultado.\n",
    "\n",
    "Enunciado\n",
    "\n",
    "Dadas:\n",
    "\n",
    "produtos_a = [\"banana\", \"maçã\"]\n",
    "\n",
    "produtos_b = [\"laranja\", \"pera\"]\n",
    "\n",
    "produtos_c = [“laranja”, “banana”, “maçã”, “romã”]\n",
    "\n",
    "Crie uma nova lista chamada estoque_total resultante da concatenação das duas listas e imprima-a. \n",
    "Conte quantas unidades de cada componente existem"
   ]
  },
  {
   "cell_type": "code",
   "execution_count": 24,
   "id": "61dc9d8d",
   "metadata": {},
   "outputs": [
    {
     "name": "stdout",
     "output_type": "stream",
     "text": [
      "banana: 1\n",
      "maçã: 1\n",
      "laranja: 1\n",
      "pera: 1\n"
     ]
    }
   ],
   "source": [
    "produtos_a = [\"banana\", \"maçã\"]\n",
    "\n",
    "produtos_b = [\"laranja\", \"pera\"]\n",
    "\n",
    "estoque_final = produtos_a + produtos_b\n",
    "\n",
    "for produto in estoque_final:\n",
    "    quantidade = estoque_final.count(produto)\n",
    "    print(f\"{produto}: {quantidade}\")"
   ]
  },
  {
   "cell_type": "markdown",
   "id": "84903c58",
   "metadata": {},
   "source": [
    "#### Exercício 10\n",
    "\n",
    "Objetivo\n",
    "\n",
    "Criar um código que percorra uma lista de boletos (com valores e datas de vencimento), identifique os atrasados e exiba informações detalhadas, reforçando o uso combinado de listas, laços e condicionais.\n",
    "\n",
    "Enunciado\n",
    "\n",
    "Defina a data atual (fixa para o teste):\n",
    "data_atual = \"2025-08-12\"\n",
    "Crie a lista de listas com dados simulados no formato [CODIGO_BOLETO, VALOR, VENCIMENTO]:\n",
    "boletos = [\n",
    "  [\"B001\", 500.00, \"2025-08-05\"],  # vencido\n",
    "  [\"B002\", 320.00, \"2025-08-12\"],  # vence hoje\n",
    "  [\"B003\", 150.00, \"2025-08-15\"],  # ainda válido\n",
    "  [\"B004\", 980.00, \"2025-08-01\"]   # vencido\n",
    "]\n",
    "Percorra a lista com um laço for.\n",
    "Se a data de vencimento for anterior à data_atual, calcule o valor devido com juros simples de 2% ao dia de atraso.\n",
    "Imprima no formato:\n",
    "Boleto: B001 | Vencimento: 2025-08-05 | Valor Original: R$ 500.00 | Dias em atraso: 7 | Valor Devido: R$ 570.00\n",
    "Ignore boletos que não estão atrasados (inclusive os que vencem hoje).\n",
    "Ao final, exiba o total acumulado de todos os boletos vencidos.\n",
    "Observações\n",
    "\n",
    "Você pode comparar datas como strings no formato YYYY-MM-DD \n",
    "Todos os dados são fixos no código; não use input().\n",
    "Teste incluindo mais boletos na lista para validar a lógica.\n"
   ]
  },
  {
   "cell_type": "code",
   "execution_count": 44,
   "id": "7995b84c",
   "metadata": {},
   "outputs": [
    {
     "name": "stdout",
     "output_type": "stream",
     "text": [
      "Boletos atrasados\n",
      "Boleto: B001 | Vencimento: 500.0| Valor Original: R$ 2025-08-05 | Dias em atraso: 7 | Valor Devido: R$ 570.0000000000001\n",
      "Boleto: B004 | Vencimento: 980.0| Valor Original: R$ 2025-08-01 | Dias em atraso: 11 | Valor Devido: R$ 1195.6\n"
     ]
    }
   ],
   "source": [
    "data_atual = \"2025-08-12\"\n",
    "data_atual_int = int(data_atual[-2:])\n",
    "boletos = [\n",
    "  [\"B001\", 500.00, \"2025-08-05\"],  # vencido\n",
    "  [\"B002\", 320.00, \"2025-08-12\"],  # vence hoje\n",
    "  [\"B003\", 150.00, \"2025-08-15\"],  # ainda válido\n",
    "  [\"B004\", 980.00, \"2025-08-01\"]   # vencido\n",
    "]\n",
    "print(\"Boletos atrasados\")\n",
    "\n",
    "for boleto in boletos:\n",
    "    if data_atual > boleto[2]:\n",
    "        data_vencimento_int = int(boleto[2][-2:])\n",
    "        dias_atraso = data_atual_int - data_vencimento_int\n",
    "        juros = dias_atraso * 2\n",
    "        valor_devido = boleto[1] * (1 + juros/100)\n",
    "        boleto.append(dias_atraso)\n",
    "        boleto.append(valor_devido)\n",
    "\n",
    "        print(f\"Boleto: {boleto[0]} | Vencimento: {boleto[1]}| Valor Original: R$ {boleto[2]} | Dias em atraso: {boleto[3]} | Valor Devido: R$ {boleto[4]}\")\n",
    "        \n"
   ]
  },
  {
   "cell_type": "markdown",
   "id": "6c692869",
   "metadata": {},
   "source": [
    "#### Exercício 11\n",
    "\n",
    "Você recebeu uma mensagem encriptada com o seguinte conteúdo:\n",
    "\n",
    "SbwKrQ eh phokRu q MDydvfulsW\n",
    "\n",
    "Enunciado\n",
    "\n",
    "Encontrar a mensagem real usando a codificação de César (ref) a partir do texto encriptado. A chave é definida pelo número de vezes que na mensagem encriptada aparecem as letras D, d e W.\n",
    "\n",
    "Dicas\n",
    "\n",
    "Use as funções:\n",
    "lower()\n",
    "upper()\n",
    "count() ou len()\n",
    "ord() - retorna o código Unicode de um único caractere\n",
    "chr() - converte um número inteiro para o caractere correspondente na tabela Unicode\n",
    "Somente palavras com mais de 3 caracteres estão encriptadas.\n",
    "Restrições\n",
    "\n",
    "Não use métodos de string como split().\n",
    "Resolva apenas com os métodos e recursos já aprendidos até aqui na matéria (e as funções indicadas no enunciado)\n",
    "Saída esperada: Ao final, seu programa deve imprimir a mensagem desencriptada."
   ]
  },
  {
   "cell_type": "code",
   "execution_count": 56,
   "id": "dd07b766",
   "metadata": {},
   "outputs": [
    {
     "name": "stdout",
     "output_type": "stream",
     "text": [
      "PytHoN eh melhOr q JAvascripT\n"
     ]
    }
   ],
   "source": [
    "mensagem_encriptada = \"SbwKrQ eh phokRu q MDydvfulsW\"\n",
    "mensagem_descriptada = \"\"\n",
    "palavra_atual = \"\"\n",
    "\n",
    "chave = mensagem_encriptada.count('D') + mensagem_encriptada.count('d') + mensagem_encriptada.count('W')\n",
    "\n",
    "for caractere in mensagem_encriptada:\n",
    "    if caractere != ' ':\n",
    "        palavra_atual += caractere\n",
    "    else:\n",
    "        if len(palavra_atual) > 3:\n",
    "            palavra_descriptada = \"\"\n",
    "            for letra in palavra_atual:\n",
    "                codigo = ord(letra)\n",
    "                novo_codigo = codigo - chave\n",
    "                \n",
    "                if 'A' <= letra <= 'Z':\n",
    "                    if novo_codigo < ord('A'):\n",
    "                        novo_codigo += 26\n",
    "                elif 'a' <= letra <= 'z':\n",
    "                    if novo_codigo < ord('a'):\n",
    "                        novo_codigo += 26\n",
    "                \n",
    "                palavra_descriptada += chr(novo_codigo)\n",
    "            \n",
    "            mensagem_descriptada += palavra_descriptada\n",
    "        else:\n",
    "            mensagem_descriptada += palavra_atual\n",
    "        \n",
    "        mensagem_descriptada += ' '\n",
    "        palavra_atual = \"\"\n",
    "\n",
    "if len(palavra_atual) > 3:\n",
    "    palavra_descriptada = \"\"\n",
    "    for letra in palavra_atual:\n",
    "        codigo = ord(letra)\n",
    "        novo_codigo = codigo - chave\n",
    "        \n",
    "        if 'A' <= letra <= 'Z':\n",
    "            if novo_codigo < ord('A'):\n",
    "                novo_codigo += 26\n",
    "        elif 'a' <= letra <= 'z':\n",
    "            if novo_codigo < ord('a'):\n",
    "                novo_codigo += 26\n",
    "        \n",
    "        palavra_descriptada += chr(novo_codigo)\n",
    "    \n",
    "    mensagem_descriptada += palavra_descriptada\n",
    "else:\n",
    "    mensagem_descriptada += palavra_atual\n",
    "\n",
    "print(mensagem_descriptada)"
   ]
  },
  {
   "cell_type": "markdown",
   "id": "5096179e",
   "metadata": {},
   "source": [
    "#### Exercício 12\n",
    "\n",
    "Objetivo\n",
    "\n",
    "Reescrever um código repetitivo, que testa os valores de temperatura de vários sensores, de forma otimizada usando um único laço e estrutura condicional para verificar quais sensores estão fora do limite seguro.\n",
    "\n",
    "Enunciado\n",
    "\n",
    "O código atual do estagiário está assim:\n",
    "\n",
    "temp_sensor1 = 28\n",
    "if temp_sensor1 > 30:\n",
    "    print(\"Sensor 1 acima do limite\")\n",
    "\n",
    "temp_sensor2 = 31\n",
    "if temp_sensor2 > 30:\n",
    "    print(\"Sensor 2 acima do limite\")\n",
    "\n",
    "temp_sensor3 = 27\n",
    "if temp_sensor3 > 30:\n",
    "    print(\"Sensor 3 acima do limite\")\n",
    "\n",
    "temp_sensor4 = 35\n",
    "if temp_sensor4 > 30:\n",
    "    print(\"Sensor 4 acima do limite\")\n",
    "\n",
    "temp_sensor5 = 29\n",
    "if temp_sensor5 > 30:\n",
    "    print(\"Sensor 5 acima do limite\")\n",
    "Reescreva o código acima usando:\n",
    "\n",
    "Uma lista para armazenar as temperaturas dos sensores.\n",
    "Um laço de repetição para percorrer todos os sensores.\n",
    "Uma condicional para exibir a mensagem \"Sensor X acima do limite\" apenas quando a temperatura for superior a 30 °C.\n"
   ]
  },
  {
   "cell_type": "code",
   "execution_count": 57,
   "id": "33ec34f4",
   "metadata": {},
   "outputs": [
    {
     "name": "stdout",
     "output_type": "stream",
     "text": [
      "Sensor 2 acima do limite\n",
      "Sensor 4 acima do limite\n"
     ]
    }
   ],
   "source": [
    "temperaturas_sensores = [28, 31, 27, 35, 29]\n",
    "limite_temperatura = 30\n",
    "\n",
    "for indice, temp in enumerate(temperaturas_sensores, start=1):\n",
    "    if temp > limite_temperatura:\n",
    "        print(f\"Sensor {indice} acima do limite\")"
   ]
  }
 ],
 "metadata": {
  "kernelspec": {
   "display_name": "Python 3",
   "language": "python",
   "name": "python3"
  },
  "language_info": {
   "codemirror_mode": {
    "name": "ipython",
    "version": 3
   },
   "file_extension": ".py",
   "mimetype": "text/x-python",
   "name": "python",
   "nbconvert_exporter": "python",
   "pygments_lexer": "ipython3",
   "version": "3.10.11"
  }
 },
 "nbformat": 4,
 "nbformat_minor": 5
}
