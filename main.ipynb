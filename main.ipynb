{
 "cells": [
  {
   "cell_type": "markdown",
   "id": "29b6c382",
   "metadata": {
    "vscode": {
     "languageId": "plaintext"
    }
   },
   "source": [
    "#### Exercício 1\n",
    "\n",
    "Objetivo\n",
    "\n",
    "Implementar um programa que analise o tipo e o valor de uma transação bancária e, com base nessas informações, exiba mensagens diferentes conforme regras definidas pelo setor de prevenção a fraudes.\n",
    "\n",
    "Enunciado\n",
    "\n",
    "Defina uma variável ANO_2_DIGITOS igual aos dois últimos dígitos do seu ano de nascimento. Em seguida:\n",
    "\n",
    "Se VALOR_TRANSACAO for maior que 1000 * ANO_2_DIGITOS e TIPO_TRANSACAO for \"transferência\", exiba \"Alerta: verificar origem da transferência\".\n",
    "Se TIPO_TRANSACAO for \"saque\", exiba \"Alerta: confirmar com o cliente\".\n",
    "Caso contrário, exiba \"Transação normal\".\n",
    "\n",
    "Observações\n",
    "\n",
    "Você pode definir valores fixos para VALOR_TRANSACAO e TIPO_TRANSACAO diretamente no código.\n",
    "O cálculo de 1000 * ANO_2_DIGITOS deve ser armazenado em uma variável auxiliar antes de ser usado na comparação."
   ]
  },
  {
   "cell_type": "code",
   "execution_count": 10,
   "id": "7e40303e",
   "metadata": {},
   "outputs": [
    {
     "name": "stdout",
     "output_type": "stream",
     "text": [
      "Alerta: verificar origem da transferência\n"
     ]
    }
   ],
   "source": [
    "ano_06 = 6\n",
    "valor_transacao = 700000\n",
    "tipo_transacao = \"transferência\"\n",
    "calculo_banco = 1000 * ano_06\n",
    "\n",
    "if tipo_transacao == \"transferência\" and valor_transacao > calculo_banco:\n",
    "    print(\"Alerta: verificar origem da transferência\")\n",
    "elif tipo_transacao == \"saque\":\n",
    "    print(\"Alerta: confirmar com o cliente\")\n",
    "else:\n",
    "    print(\"Transação normal\")"
   ]
  },
  {
   "cell_type": "markdown",
   "id": "31a0f6fc",
   "metadata": {},
   "source": [
    "#### Exercício 2\n",
    "\n",
    "Objetivo\n",
    "\n",
    "Implementar um programa que utilize operadores lógicos para verificar se um funcionário atende aos critérios mínimos para receber uma promoção, exibindo a mensagem apropriada.\n",
    "\n",
    "Enunciado\n",
    "\n",
    "Defina valores fixos para:\n",
    "\n",
    "tempo_empresa_anos (por exemplo, 3)\n",
    "nota_avaliacao (por exemplo, 8.5)\n",
    "carga_horaria (por exemplo, 40)\n",
    "Em seguida:\n",
    "\n",
    "Se o tempo de empresa for maior que 2 anos e a nota da avaliação for maior ou igual a 8.0, imprima \"Elegível para promoção\".\n",
    "Caso contrário, imprima \"Aguardando próxima avaliação\"."
   ]
  },
  {
   "cell_type": "code",
   "execution_count": 11,
   "id": "a5433175",
   "metadata": {},
   "outputs": [
    {
     "name": "stdout",
     "output_type": "stream",
     "text": [
      "Elegível para promoção\n"
     ]
    }
   ],
   "source": [
    "tempo_empresa_anos = 3\n",
    "nota_avaliacao = 8.5\n",
    "carga_horaria = 40\n",
    "\n",
    "if tempo_empresa_anos > 2 and nota_avaliacao >=  8.0:\n",
    "    print(\"Elegível para promoção\")\n",
    "else:\n",
    "    print(\"Aguardando próxima avaliação\")"
   ]
  },
  {
   "cell_type": "markdown",
   "id": "30fd5714",
   "metadata": {},
   "source": [
    "#### Exercício 3\n",
    "\n",
    "Objetivo\n",
    "\n",
    "Implementar um programa que avalie mais de uma condição ao mesmo tempo e classifique o risco de atraso da entrega, imprimindo a mensagem correspondente.\n",
    "\n",
    "Enunciado\n",
    "\n",
    "Defina valores fixos para:\n",
    "\n",
    "distancia_km (por exemplo, 350)\n",
    "clima (por exemplo, \"chuva\")\n",
    "zona_entrega (por exemplo, \"rural\")\n",
    "Em seguida:\n",
    "\n",
    "Se a distância for maior que 300 e o clima for \"chuva\" ou a zona_entrega for \"rural\", imprima \"Risco alto de atraso\".\n",
    "Caso contrário, imprima \"Entrega dentro do previsto\"."
   ]
  },
  {
   "cell_type": "code",
   "execution_count": 16,
   "id": "4cc3c186",
   "metadata": {},
   "outputs": [
    {
     "name": "stdout",
     "output_type": "stream",
     "text": [
      "Risco alto previsto\n"
     ]
    }
   ],
   "source": [
    "distancia_km = 350\n",
    "clima = \"chuva\"\n",
    "zona_entrega = \"rural\"\n",
    "\n",
    "if distancia_km > 300 and (clima == \"chuva\" or zona_entrega == \"rural\"):\n",
    "    print(\"Risco alto previsto\")\n",
    "else:\n",
    "    print(\"Entrega dentro do previsto\")\n"
   ]
  },
  {
   "cell_type": "markdown",
   "id": "9717baee",
   "metadata": {},
   "source": [
    "#### Exercício 4\n",
    "\n",
    "Objetivo\n",
    "Desenvolver um programa com estruturas de decisão que implementam diferentes caminhos de execução para cada tipo de falha de sensor.\n",
    "\n",
    "Enunciado\n",
    "\n",
    "Se o código for \"F1\" e a temperatura estiver abaixo de 40 graus, imprima \"Reiniciar máquina\". Se o código for \"F2\" e a temperatura estiver acima de 60 graus, imprima \"Verificar conexão elétrica e sistema de refrigeração\". Se o código for \"F3\" e a temperatura estiver entre 45 e 55 graus, imprima \"Ajustar temperatura da esteira\". Para o código \"F4\", independentemente da temperatura, imprima \"Realizar diagnóstico dos sensores ópticos\". Caso exista uma falha registrada, mas nenhuma das condições de temperatura previstas for atendida, imprima \"Falha não reconhecida pelo sistema de alarme. Acionar engenheiro responsável\"."
   ]
  },
  {
   "cell_type": "code",
   "execution_count": null,
   "id": "7677707b",
   "metadata": {},
   "outputs": [],
   "source": [
    "codigo = \"F1\"\n",
    "tempetura = 40\n",
    "\n",
    "if codigo == \"F1\" and tempetura < 40:\n",
    "    print(\"Reiniciar máquina\")\n",
    "elif codigo == \"F2\" and tempetura > 60:\n",
    "    print(\"Verificar conexão elétrico e sistema de refrigeração\")\n",
    "elif codigo == \"F3\" and 45 < tempetura < 55:\n",
    "    print(\"Ajustar temperatura da esteira\") \n",
    "elif codigo == \"F4\":\n",
    "    print(\"Realizar diagnósticos dos sensores ópticos\")\n",
    "else:\n",
    "    print(\"Falha não reconhecida pelo sistema de alarme. Acionar engenheiro responsável\")"
   ]
  },
  {
   "cell_type": "markdown",
   "id": "c86b0e30",
   "metadata": {},
   "source": [
    "#### Exercício 5\n",
    "\n",
    "Objetivo\n",
    "Criar um loop que percorra uma lista de avaliações e imprima todas as notas acima de 7, destacando clientes satisfeitos.\n",
    "\n",
    "Enunciado\n",
    "Considere:\n",
    "\n",
    "notas_avaliacao = [5, 8, 10, 6, 9, 4]\n",
    "\n",
    "Percorra a lista com um loop for e imprima somente as notas maiores que 7."
   ]
  },
  {
   "cell_type": "code",
   "execution_count": 19,
   "id": "d3ae9850",
   "metadata": {},
   "outputs": [
    {
     "name": "stdout",
     "output_type": "stream",
     "text": [
      "8\n",
      "10\n",
      "9\n"
     ]
    }
   ],
   "source": [
    "notas_avaliacao = [5, 8, 10, 6, 9, 4]\n",
    "\n",
    "for nota in notas_avaliacao:\n",
    "    if nota > 7:\n",
    "        print(nota)"
   ]
  },
  {
   "cell_type": "markdown",
   "id": "02435b07",
   "metadata": {},
   "source": [
    "#### Exercício 6\n",
    "\n",
    "Enunciado\n",
    "Crie uma lista com valores de 0 até 50, de 5 em 5 e mostre na tela o resultado."
   ]
  },
  {
   "cell_type": "code",
   "execution_count": 21,
   "id": "757f6721",
   "metadata": {},
   "outputs": [
    {
     "name": "stdout",
     "output_type": "stream",
     "text": [
      "[0, 5, 10, 15, 20, 25, 30, 35, 40, 45, 50]\n"
     ]
    }
   ],
   "source": [
    "valores = []\n",
    "\n",
    "for i in range(0, 51, 5):\n",
    "    valores.append(i)\n",
    "\n",
    "print(valores)"
   ]
  },
  {
   "cell_type": "markdown",
   "id": "1e677608",
   "metadata": {},
   "source": [
    "#### Exercício 7\n",
    "\n",
    "Objetivo\n",
    "\n",
    "Criar um programa que percorra uma sequência de tentativas de conexão, imprimindo mensagens a cada tentativa e interrompendo o processo ao atingir o limite definido, aplicando a lógica de loops condicionais com contagem.\n",
    "\n",
    "Enunciado\n",
    "\n",
    "Defina uma lista chamada tentativas_conexao com valores [False, False, False, True, True], representando o resultado de cada tentativa.\n",
    "Crie uma variável tentativas iniciando em 0 e defina limite_tentativas = 3.\n",
    "Use um loop while para percorrer a lista de tentativas:\n",
    "Para cada tentativa, imprima \"Tentando conectar...\"\n",
    "Incremente tentativas em 1\n",
    "Se tentativas atingir o limite_tentativas e não houver sucesso (True), imprima \"Conexão interrompida após limite de tentativas\" e encerre o loop."
   ]
  },
  {
   "cell_type": "code",
   "execution_count": 44,
   "id": "0cfa6fa9",
   "metadata": {},
   "outputs": [
    {
     "name": "stdout",
     "output_type": "stream",
     "text": [
      "Tentando conectar...\n",
      "Tentando conectar...\n",
      "Tentando conectar...\n",
      "Tentando conectar...\n"
     ]
    }
   ],
   "source": [
    "tentativas_conexao = [False, False, False, True, False]\n",
    "tentativas = 0\n",
    "\n",
    "while tentativas < len(tentativas_conexao):\n",
    "    \n",
    "    print(\"Tentando conectar...\")\n",
    "\n",
    "    resultado = tentativas_conexao[tentativas]\n",
    "    tentativas = tentativas + 1\n",
    "\n",
    "    if resultado:\n",
    "        break\n",
    "    \n",
    "if tentativas == len(tentativas_conexao):\n",
    "    print(\"Conexão interrompida após limite de tentativas\")    \n"
   ]
  },
  {
   "cell_type": "markdown",
   "id": "1a92c175",
   "metadata": {},
   "source": [
    "#### Exercício 8\n",
    "\n",
    "Objetivo\n",
    "\n",
    "Criar e manipular uma lista de pedidos aplicando regras de negócio com condicionais, garantindo que o aluno teste diferentes cenários e apresente a fila final em cada caso, consolidando operações de inserção e substituição.\n",
    "\n",
    "Enunciado\n",
    "\n",
    "Defina, no topo da célula, as variáveis iniciais (valores fixos, sem input()):\n",
    "pedidos = [\"P123\", \"P456\", \"P789\"]\n",
    "pedido_a_substituir = \"P456\"\n",
    "prioridade_urgente = True\n",
    "pedido_urgente = \"P999\"\n",
    "Implemente a seguinte lógica de decisão:\n",
    "Se prioridade_urgente for True, insira pedido_urgente no início da lista pedidos (não remova itens).\n",
    "Senão, substitua o elemento igual a pedido_a_substituir por pedido_urgente (se existir na lista).\n",
    "Imprima a lista final após a aplicação da regra.\n",
    "Teste ao menos 3 cenários distintos no mesmo notebook (pode ser em células separadas, redefinindo as variáveis a cada cenário):\n",
    "Cenário A (urgente): prioridade_urgente = True.\n",
    "Cenário B (não urgente + substituição existe): prioridade_urgente = False e pedido_a_substituir está presente em pedidos.\n",
    "Cenário C (não urgente + substituição não existe): prioridade_urgente = False e pedido_a_substituir não está na lista; mantenha a lista inalterada e imprima uma mensagem explicativa antes da fila final.\n",
    "Observações\n",
    "\n",
    "Não use input().\n",
    "Pode usar métodos de lista como insert, index, atribuição por índice e checagem de existência com in.\n",
    "Ao final de cada cenário, imprima algo como: Fila final (Cenário X): [...]."
   ]
  },
  {
   "cell_type": "code",
   "execution_count": null,
   "id": "dac6b81c",
   "metadata": {},
   "outputs": [],
   "source": []
  }
 ],
 "metadata": {
  "kernelspec": {
   "display_name": "ambiente",
   "language": "python",
   "name": "python3"
  },
  "language_info": {
   "codemirror_mode": {
    "name": "ipython",
    "version": 3
   },
   "file_extension": ".py",
   "mimetype": "text/x-python",
   "name": "python",
   "nbconvert_exporter": "python",
   "pygments_lexer": "ipython3",
   "version": "3.13.0"
  }
 },
 "nbformat": 4,
 "nbformat_minor": 5
}
